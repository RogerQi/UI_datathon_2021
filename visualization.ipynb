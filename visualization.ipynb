{
 "cells": [
  {
   "cell_type": "code",
   "execution_count": 1,
   "metadata": {},
   "outputs": [],
   "source": [
    "import os\n",
    "import sys\n",
    "import numpy as np\n",
    "import matplotlib as mpl\n",
    "import matplotlib.pyplot as plt\n",
    "import pandas as pd\n",
    "import seaborn as sn\n",
    "import scipy\n",
    "import csv\n",
    "\n",
    "from pprint import pprint\n",
    "from sklearn.cluster import KMeans\n",
    "from sklearn.metrics.cluster import contingency_matrix\n",
    "from sklearn.metrics import confusion_matrix"
   ]
  },
  {
   "cell_type": "code",
   "execution_count": 2,
   "metadata": {},
   "outputs": [],
   "source": [
    "val_data_file = \"./data/annotated_sheets_pull.csv\"\n",
    "train_data_file = \"./data/train.csv\""
   ]
  },
  {
   "cell_type": "code",
   "execution_count": 3,
   "metadata": {},
   "outputs": [],
   "source": [
    "train_df = pd.read_csv(train_data_file)\n",
    "val_df = pd.read_csv(val_data_file)"
   ]
  },
  {
   "cell_type": "markdown",
   "metadata": {},
   "source": [
    "### Validation Set"
   ]
  },
  {
   "cell_type": "code",
   "execution_count": 4,
   "metadata": {},
   "outputs": [
    {
     "data": {
      "text/html": [
       "<div>\n",
       "<style scoped>\n",
       "    .dataframe tbody tr th:only-of-type {\n",
       "        vertical-align: middle;\n",
       "    }\n",
       "\n",
       "    .dataframe tbody tr th {\n",
       "        vertical-align: top;\n",
       "    }\n",
       "\n",
       "    .dataframe thead th {\n",
       "        text-align: right;\n",
       "    }\n",
       "</style>\n",
       "<table border=\"1\" class=\"dataframe\">\n",
       "  <thead>\n",
       "    <tr style=\"text-align: right;\">\n",
       "      <th></th>\n",
       "      <th>Unnamed: 0</th>\n",
       "      <th>seconds_since_previous_pull</th>\n",
       "      <th>HH_ID</th>\n",
       "      <th>roll_ID</th>\n",
       "      <th>roll_type</th>\n",
       "      <th>starting_time</th>\n",
       "      <th>elapsed_time</th>\n",
       "      <th>total_sheets_used</th>\n",
       "      <th>number_pulled</th>\n",
       "      <th>max_min_pull_diff</th>\n",
       "      <th>multiple_pull_flag</th>\n",
       "      <th>average_time_between_pulls</th>\n",
       "      <th>label</th>\n",
       "    </tr>\n",
       "  </thead>\n",
       "  <tbody>\n",
       "    <tr>\n",
       "      <th>0</th>\n",
       "      <td>0</td>\n",
       "      <td>4282</td>\n",
       "      <td>A</td>\n",
       "      <td>1200</td>\n",
       "      <td>Small</td>\n",
       "      <td>2019-10-29 5:51:42</td>\n",
       "      <td>0</td>\n",
       "      <td>3.991088</td>\n",
       "      <td>1</td>\n",
       "      <td>0.000000</td>\n",
       "      <td>False</td>\n",
       "      <td>0.000000</td>\n",
       "      <td>pee &amp; hand washing</td>\n",
       "    </tr>\n",
       "    <tr>\n",
       "      <th>1</th>\n",
       "      <td>0</td>\n",
       "      <td>2394</td>\n",
       "      <td>A</td>\n",
       "      <td>1200</td>\n",
       "      <td>Small</td>\n",
       "      <td>2019-10-29 7:13:21</td>\n",
       "      <td>0</td>\n",
       "      <td>4.277735</td>\n",
       "      <td>1</td>\n",
       "      <td>0.000000</td>\n",
       "      <td>False</td>\n",
       "      <td>0.000000</td>\n",
       "      <td>pee &amp; hand washing</td>\n",
       "    </tr>\n",
       "    <tr>\n",
       "      <th>2</th>\n",
       "      <td>0</td>\n",
       "      <td>14200</td>\n",
       "      <td>A</td>\n",
       "      <td>1200</td>\n",
       "      <td>Small</td>\n",
       "      <td>2019-10-29 11:10:01</td>\n",
       "      <td>0</td>\n",
       "      <td>2.363388</td>\n",
       "      <td>1</td>\n",
       "      <td>0.000000</td>\n",
       "      <td>False</td>\n",
       "      <td>0.000000</td>\n",
       "      <td>pee &amp; hand washing</td>\n",
       "    </tr>\n",
       "    <tr>\n",
       "      <th>3</th>\n",
       "      <td>0</td>\n",
       "      <td>828</td>\n",
       "      <td>A</td>\n",
       "      <td>1200</td>\n",
       "      <td>Small</td>\n",
       "      <td>2019-10-29 11:23:49</td>\n",
       "      <td>4</td>\n",
       "      <td>2.980160</td>\n",
       "      <td>2</td>\n",
       "      <td>2.351341</td>\n",
       "      <td>True</td>\n",
       "      <td>4.000000</td>\n",
       "      <td>pee &amp; hand washing</td>\n",
       "    </tr>\n",
       "    <tr>\n",
       "      <th>4</th>\n",
       "      <td>0</td>\n",
       "      <td>12312</td>\n",
       "      <td>A</td>\n",
       "      <td>1200</td>\n",
       "      <td>Small</td>\n",
       "      <td>2019-10-29 14:49:05</td>\n",
       "      <td>0</td>\n",
       "      <td>2.186278</td>\n",
       "      <td>1</td>\n",
       "      <td>0.000000</td>\n",
       "      <td>False</td>\n",
       "      <td>0.000000</td>\n",
       "      <td>pee &amp; hand washing</td>\n",
       "    </tr>\n",
       "    <tr>\n",
       "      <th>...</th>\n",
       "      <td>...</td>\n",
       "      <td>...</td>\n",
       "      <td>...</td>\n",
       "      <td>...</td>\n",
       "      <td>...</td>\n",
       "      <td>...</td>\n",
       "      <td>...</td>\n",
       "      <td>...</td>\n",
       "      <td>...</td>\n",
       "      <td>...</td>\n",
       "      <td>...</td>\n",
       "      <td>...</td>\n",
       "      <td>...</td>\n",
       "    </tr>\n",
       "    <tr>\n",
       "      <th>710</th>\n",
       "      <td>0</td>\n",
       "      <td>8053</td>\n",
       "      <td>A</td>\n",
       "      <td>12553</td>\n",
       "      <td>Big</td>\n",
       "      <td>2020-06-20 6:50:31</td>\n",
       "      <td>0</td>\n",
       "      <td>6.877803</td>\n",
       "      <td>1</td>\n",
       "      <td>0.000000</td>\n",
       "      <td>False</td>\n",
       "      <td>0.000000</td>\n",
       "      <td>pee &amp; hand washing</td>\n",
       "    </tr>\n",
       "    <tr>\n",
       "      <th>711</th>\n",
       "      <td>0</td>\n",
       "      <td>1182</td>\n",
       "      <td>A</td>\n",
       "      <td>12553</td>\n",
       "      <td>Big</td>\n",
       "      <td>2020-06-20 7:10:13</td>\n",
       "      <td>106</td>\n",
       "      <td>13.338421</td>\n",
       "      <td>2</td>\n",
       "      <td>4.971008</td>\n",
       "      <td>True</td>\n",
       "      <td>106.000000</td>\n",
       "      <td>poo</td>\n",
       "    </tr>\n",
       "    <tr>\n",
       "      <th>712</th>\n",
       "      <td>0</td>\n",
       "      <td>29711</td>\n",
       "      <td>A</td>\n",
       "      <td>12553</td>\n",
       "      <td>Big</td>\n",
       "      <td>2020-06-20 15:27:10</td>\n",
       "      <td>320</td>\n",
       "      <td>32.941774</td>\n",
       "      <td>14</td>\n",
       "      <td>9.471123</td>\n",
       "      <td>True</td>\n",
       "      <td>24.615385</td>\n",
       "      <td>object cleaning</td>\n",
       "    </tr>\n",
       "    <tr>\n",
       "      <th>713</th>\n",
       "      <td>0</td>\n",
       "      <td>33992</td>\n",
       "      <td>A</td>\n",
       "      <td>12553</td>\n",
       "      <td>Big</td>\n",
       "      <td>2020-06-21 0:59:02</td>\n",
       "      <td>0</td>\n",
       "      <td>9.194302</td>\n",
       "      <td>1</td>\n",
       "      <td>0.000000</td>\n",
       "      <td>False</td>\n",
       "      <td>0.000000</td>\n",
       "      <td>pee &amp; hand washing</td>\n",
       "    </tr>\n",
       "    <tr>\n",
       "      <th>714</th>\n",
       "      <td>0</td>\n",
       "      <td>10065</td>\n",
       "      <td>A</td>\n",
       "      <td>12553</td>\n",
       "      <td>Big</td>\n",
       "      <td>2020-06-21 3:46:47</td>\n",
       "      <td>3</td>\n",
       "      <td>9.509228</td>\n",
       "      <td>2</td>\n",
       "      <td>7.891993</td>\n",
       "      <td>True</td>\n",
       "      <td>3.000000</td>\n",
       "      <td>poo</td>\n",
       "    </tr>\n",
       "  </tbody>\n",
       "</table>\n",
       "<p>715 rows × 13 columns</p>\n",
       "</div>"
      ],
      "text/plain": [
       "     Unnamed: 0  seconds_since_previous_pull HH_ID  roll_ID roll_type  \\\n",
       "0             0                         4282     A     1200     Small   \n",
       "1             0                         2394     A     1200     Small   \n",
       "2             0                        14200     A     1200     Small   \n",
       "3             0                          828     A     1200     Small   \n",
       "4             0                        12312     A     1200     Small   \n",
       "..          ...                          ...   ...      ...       ...   \n",
       "710           0                         8053     A    12553       Big   \n",
       "711           0                         1182     A    12553       Big   \n",
       "712           0                        29711     A    12553       Big   \n",
       "713           0                        33992     A    12553       Big   \n",
       "714           0                        10065     A    12553       Big   \n",
       "\n",
       "           starting_time  elapsed_time  total_sheets_used  number_pulled  \\\n",
       "0     2019-10-29 5:51:42             0           3.991088              1   \n",
       "1     2019-10-29 7:13:21             0           4.277735              1   \n",
       "2    2019-10-29 11:10:01             0           2.363388              1   \n",
       "3    2019-10-29 11:23:49             4           2.980160              2   \n",
       "4    2019-10-29 14:49:05             0           2.186278              1   \n",
       "..                   ...           ...                ...            ...   \n",
       "710   2020-06-20 6:50:31             0           6.877803              1   \n",
       "711   2020-06-20 7:10:13           106          13.338421              2   \n",
       "712  2020-06-20 15:27:10           320          32.941774             14   \n",
       "713   2020-06-21 0:59:02             0           9.194302              1   \n",
       "714   2020-06-21 3:46:47             3           9.509228              2   \n",
       "\n",
       "     max_min_pull_diff  multiple_pull_flag  average_time_between_pulls  \\\n",
       "0             0.000000               False                    0.000000   \n",
       "1             0.000000               False                    0.000000   \n",
       "2             0.000000               False                    0.000000   \n",
       "3             2.351341                True                    4.000000   \n",
       "4             0.000000               False                    0.000000   \n",
       "..                 ...                 ...                         ...   \n",
       "710           0.000000               False                    0.000000   \n",
       "711           4.971008                True                  106.000000   \n",
       "712           9.471123                True                   24.615385   \n",
       "713           0.000000               False                    0.000000   \n",
       "714           7.891993                True                    3.000000   \n",
       "\n",
       "                  label  \n",
       "0    pee & hand washing  \n",
       "1    pee & hand washing  \n",
       "2    pee & hand washing  \n",
       "3    pee & hand washing  \n",
       "4    pee & hand washing  \n",
       "..                  ...  \n",
       "710  pee & hand washing  \n",
       "711                 poo  \n",
       "712     object cleaning  \n",
       "713  pee & hand washing  \n",
       "714                 poo  \n",
       "\n",
       "[715 rows x 13 columns]"
      ]
     },
     "execution_count": 4,
     "metadata": {},
     "output_type": "execute_result"
    }
   ],
   "source": [
    "val_df"
   ]
  },
  {
   "cell_type": "code",
   "execution_count": 21,
   "metadata": {},
   "outputs": [],
   "source": [
    "def visualize_2d_features_w_labels(name1, name2):\n",
    "    x_vec = val_df[name1].to_numpy().flatten()\n",
    "    y_vec = val_df[name2].to_numpy().flatten()\n",
    "    label_vec = val_df[\"label\"].to_numpy().flatten()\n",
    "    no1_idx = (label_vec == \"pee & hand washing\")\n",
    "    no2_idx = (label_vec == \"poo\")\n",
    "    cleaning_idx = (label_vec == \"object cleaning\")\n",
    "    plt.figure(figsize = (10, 10))\n",
    "    plt.scatter(x_vec[no1_idx], y_vec[no1_idx], color = \"green\", label = \"No.1 event\")\n",
    "    plt.scatter(x_vec[no2_idx], y_vec[no2_idx], color = \"black\", label = \"No.2 event\")\n",
    "    plt.scatter(x_vec[cleaning_idx], y_vec[cleaning_idx], color = \"blue\", label = \"Cleaning\")\n",
    "    plt.legend()\n",
    "    plt.show()"
   ]
  },
  {
   "cell_type": "code",
   "execution_count": 22,
   "metadata": {},
   "outputs": [
    {
     "data": {
      "image/png": "[encoded data removed]",
      "text/plain": [
       "<Figure size 720x720 with 1 Axes>"
      ]
     },
     "metadata": {
      "needs_background": "light"
     },
     "output_type": "display_data"
    }
   ],
   "source": [
    "visualize_2d_features_w_labels(\"total_sheets_used\", \"number_pulled\")"
   ]
  },
  {
   "cell_type": "code",
   "execution_count": 23,
   "metadata": {},
   "outputs": [
    {
     "data": {
      "image/png": "[encoded data removed]",
      "text/plain": [
       "<Figure size 720x720 with 1 Axes>"
      ]
     },
     "metadata": {
      "needs_background": "light"
     },
     "output_type": "display_data"
    }
   ],
   "source": [
    "visualize_2d_features_w_labels(\"total_sheets_used\", \"elapsed_time\")"
   ]
  },
  {
   "cell_type": "code",
   "execution_count": 24,
   "metadata": {},
   "outputs": [
    {
     "data": {
      "image/png": "[encoded data removed]",
      "text/plain": [
       "<Figure size 720x720 with 1 Axes>"
      ]
     },
     "metadata": {
      "needs_background": "light"
     },
     "output_type": "display_data"
    }
   ],
   "source": [
    "visualize_2d_features_w_labels(\"number_pulled\", \"elapsed_time\")"
   ]
  },
  {
   "cell_type": "code",
   "execution_count": 25,
   "metadata": {},
   "outputs": [
    {
     "data": {
      "image/png": "[encoded data removed]",
      "text/plain": [
       "<Figure size 720x720 with 1 Axes>"
      ]
     },
     "metadata": {
      "needs_background": "light"
     },
     "output_type": "display_data"
    }
   ],
   "source": [
    "visualize_2d_features_w_labels(\"max_min_pull_diff\", \"elapsed_time\")"
   ]
  },
  {
   "cell_type": "code",
   "execution_count": null,
   "metadata": {},
   "outputs": [],
   "source": []
  }
 ],
 "metadata": {
  "kernelspec": {
   "display_name": "Python 3",
   "language": "python",
   "name": "python3"
  },
  "language_info": {
   "codemirror_mode": {
    "name": "ipython",
    "version": 3
   },
   "file_extension": ".py",
   "mimetype": "text/x-python",
   "name": "python",
   "nbconvert_exporter": "python",
   "pygments_lexer": "ipython3",
   "version": "3.8.5"
  }
 },
 "nbformat": 4,
 "nbformat_minor": 4
}
